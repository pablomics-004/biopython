{
 "cells": [
  {
   "cell_type": "markdown",
   "id": "e78d4f25",
   "metadata": {},
   "source": [
    "## Contenido de la unidad\n",
    "- Conociendo Biopython\n",
    "- Secuencias y sus formatos desde biopython\n",
    "\n",
    "1. Bio.Seq\n",
    "\n",
    "2. Archivos FASTA\n",
    "\n",
    "3. SeqRecord\n",
    "\n",
    "4. Archivos FASTQ\n",
    "\n",
    "## Conociendo Biopython\n",
    "### ¿Qué es Biopython?\n",
    "\n",
    "El Proyecto Biopython es una asociación internacional de desarrolladores de Python que comparten gratuitamente herramientas para biología molecular computacional.\n",
    "\n",
    "Básicamente, El objetivo de Biopython es facilitar al máximo el uso de Python para bioinformática mediante la creación de módulos y clases reutilizables. Las características de Biopython incluyen analizadores para varios formatos de archivo de bioinformática (BLAST, Clustalw, FASTA, Genbank, ...), acceso a servicios online (NCBI, Expasy, ...), interfaces a programas (Clustalw, DSSP, MSMS ...), una clase de secuencia estándar, modulos con métodos de clasificación (como kmeans, etc.).\n",
    "\n",
    "<http://biopython.org/DIST/docs/tutorial/Tutorial.pdf>\n",
    "\n",
    "El código fuente está disponible bajo la Licencia Biopython, que es extremadamente libre y compatible con casi todas las licencias del mundo.\n",
    "\n",
    "## Instalación\n",
    "\n",
    "Python incluye el sistema de administración de paquetes \"pip\" que debería permitite instalar Biopython (y su dependencia NumPy si es necesario), actualizar o desinstalar con solo un comando de terminal:\n",
    "\n",
    "```python\n",
    "pip install biopython\n",
    "pip install --upgrade biopython\n",
    "pip uninstall biopython\n",
    "```\n",
    "después entras a una sesion de python3 y verificas la version:\n"
   ]
  },
  {
   "cell_type": "code",
   "execution_count": 1,
   "id": "6d03f552",
   "metadata": {},
   "outputs": [
    {
     "name": "stdout",
     "output_type": "stream",
     "text": [
      "1.85\n"
     ]
    }
   ],
   "source": [
    "import Bio\n",
    "print(Bio.__version__)"
   ]
  },
  {
   "cell_type": "markdown",
   "id": "1bc7333d",
   "metadata": {},
   "source": [
    "### ¿Que puedo encontrar en los paquetes de biopython?\n",
    "La capacidad de analizar archivos bioinformáticos en estructuras de datos utilizables de Python, incluida la compatibilidad con los siguientes formatos:\n",
    "\n",
    "- [Salidas de Blast](https://resources.qiagenbioinformatics.com/manuals/clcgenomicsworkbench/650/Explanation_BLAST_output.html)\n",
    "- [Clustalw](https://meme-suite.org/meme/doc/clustalw-format.html)\n",
    "- [FASTA](https://www.ncbi.nlm.nih.gov/genbank/fastaformat/)\n",
    "- [fastq](https://es.wikipedia.org/wiki/Formato_FASTQ)\n",
    "- [GenBank](https://www.ncbi.nlm.nih.gov/genbank/samplerecord/)\n",
    "- [PubMed y Medline](https://support.nlm.nih.gov/kbArticle/?pn=KA-05477)\n",
    "- Archivos [ExPASy](https://www.expasy.org/), como Enzyme y Prosite\n",
    "- SCOP, incluidos archivos ‘dom’ y ‘lin’\n",
    "- UniGene\n",
    "- SwissProt"
   ]
  },
  {
   "cell_type": "markdown",
   "id": "9f531dce",
   "metadata": {},
   "source": [
    "## Manejo de secuencias\n",
    "\n",
    "Las secuencias biológicas son posiblemente el objeto central de la bioinformática, y en esta sección presentaremos el mecanismo de Biopython para tratar con secuencias, el objeto Seq. Mas adelante veremos como el Objeto SeqRecord, combina la información de secuencia con cualquier anotación.\n",
    "\n",
    "Las secuencias son esencialmente cadenas de letras como AGTACACTGGT, que parece muy natural ya que esta es la forma más común en que las secuencias se ven en formatos de archivos biológicos. La diferencia más importante entre los objetos Seq y las cadenas estándar de Python es que tienen diferentes métodos. Aunque el objeto Seq admite muchos de los mismos métodos que una cadena simple, su método translate() difiere al realizar la traducción biológica a diferencia que en un string dicho método reemplaza un caracter por otro. También hay métodos adicionales biológicamente relevantes como reverse_complement() en el objeto Seq.\n",
    "\n",
    "[Métodos string Métodos Bio.Seq](https://biopython.org/docs/1.75/api/Bio.Seq.html)\n",
    "\n",
    "Función `Seq`: toma secuencia DNA|RNA|AA (string) y convierte a objeto `Seq`"
   ]
  },
  {
   "cell_type": "code",
   "execution_count": 6,
   "id": "b6434d0e",
   "metadata": {},
   "outputs": [
    {
     "data": {
      "text/plain": [
       "Seq('ATGCGATCGAGC')"
      ]
     },
     "execution_count": 6,
     "metadata": {},
     "output_type": "execute_result"
    }
   ],
   "source": [
    "import Bio.Seq\n",
    "import gc\n",
    "seqobj =  Bio.Seq.Seq('ATGCGATCGAGC')\n",
    "seqobj"
   ]
  },
  {
   "cell_type": "code",
   "execution_count": 3,
   "id": "e50f01ec",
   "metadata": {},
   "outputs": [
    {
     "name": "stdout",
     "output_type": "stream",
     "text": [
      "ATGCGATCGAGC tiene 12 nucelótidos\n"
     ]
    }
   ],
   "source": [
    "seqstr = str(seqobj)\n",
    "print(f'{seqstr} tiene {len(seqstr)} nucelótidos')"
   ]
  },
  {
   "cell_type": "markdown",
   "id": "f2244bee",
   "metadata": {},
   "source": [
    "### Abreviemos\n",
    "Para no tener que escribir todo el tiempo `Bio.Seq.Seq` podemos hacer:"
   ]
  },
  {
   "cell_type": "code",
   "execution_count": 7,
   "id": "006c38d9",
   "metadata": {},
   "outputs": [
    {
     "data": {
      "text/plain": [
       "534"
      ]
     },
     "execution_count": 7,
     "metadata": {},
     "output_type": "execute_result"
    }
   ],
   "source": [
    "from Bio.Seq import Seq\n",
    "seqobj = Seq('ATGCGATCGAGC')\n",
    "gc.collect()"
   ]
  },
  {
   "cell_type": "markdown",
   "id": "95d4114e",
   "metadata": {},
   "source": [
    "Los objetos `Seq` son inmutables, por lo que no pueden ser modificados una vez que han sido transformados en objetos. Si es de nuestro interés modificar al objeto utilizamos:"
   ]
  },
  {
   "cell_type": "code",
   "execution_count": 8,
   "id": "e701672e",
   "metadata": {},
   "outputs": [
    {
     "data": {
      "text/plain": [
       "MutableSeq('TTGCGATCGAGC')"
      ]
     },
     "execution_count": 8,
     "metadata": {},
     "output_type": "execute_result"
    }
   ],
   "source": [
    "from Bio.Seq import MutableSeq\n",
    "\n",
    "mut_seq = MutableSeq(seqobj)\n",
    "mut_seq[0] = 'T'\n",
    "mut_seq"
   ]
  },
  {
   "cell_type": "markdown",
   "id": "24fe5d3d",
   "metadata": {},
   "source": [
    "### ¿Y cómo obtengo a la secuencia complementaria?\n",
    "\n",
    "Si venimos desde la secuencia, podemos utilizar mecanismos propios de python, tales como"
   ]
  },
  {
   "cell_type": "code",
   "execution_count": 11,
   "id": "e5557173",
   "metadata": {},
   "outputs": [
    {
     "data": {
      "text/plain": [
       "('CGAGCTAGCGTA', 'ATGCGATCGAGC')"
      ]
     },
     "execution_count": 11,
     "metadata": {},
     "output_type": "execute_result"
    }
   ],
   "source": [
    "seqstr[::-1], seqstr"
   ]
  },
  {
   "cell_type": "markdown",
   "id": "7b630648",
   "metadata": {},
   "source": [
    "#### Para cambiar las bases y seguir siendo capaz de identificar las modificaciones\n",
    "\n",
    "Podemos aprovecharnos de que python maneja las cadenas de forma `case sensitive`."
   ]
  },
  {
   "cell_type": "code",
   "execution_count": 12,
   "id": "2a2eb307",
   "metadata": {},
   "outputs": [
    {
     "data": {
      "text/plain": [
       "('ATGCGATCGAGC', 'tacgctagctcg')"
      ]
     },
     "execution_count": 12,
     "metadata": {},
     "output_type": "execute_result"
    }
   ],
   "source": [
    "seqstr2 = seqstr.replace('A', 't').replace('T', 'a').replace('C', 'g').replace('G', 'c')\n",
    "seqstr, seqstr2"
   ]
  },
  {
   "cell_type": "markdown",
   "id": "6c57fe42",
   "metadata": {},
   "source": [
    "#### Utilizando BioPython"
   ]
  },
  {
   "cell_type": "code",
   "execution_count": null,
   "id": "d8386d0f",
   "metadata": {},
   "outputs": [],
   "source": [
    "seq_comp = seqobj.complement()\n",
    "seq_rev = seqobj.reverse_complement()\n",
    "seq_rna = seqobj.transcribe()\n",
    "seq_back_rna = seqobj.back_transcribe()"
   ]
  },
  {
   "cell_type": "markdown",
   "id": "978126bd",
   "metadata": {},
   "source": [
    "### Extracción de codones"
   ]
  },
  {
   "cell_type": "code",
   "execution_count": 13,
   "id": "f06ff2dd",
   "metadata": {},
   "outputs": [
    {
     "data": {
      "text/plain": [
       "'ATG'"
      ]
     },
     "execution_count": 13,
     "metadata": {},
     "output_type": "execute_result"
    }
   ],
   "source": [
    "seqstr[:3]"
   ]
  },
  {
   "cell_type": "code",
   "execution_count": 14,
   "id": "be80962c",
   "metadata": {},
   "outputs": [
    {
     "name": "stdout",
     "output_type": "stream",
     "text": [
      "ATG\n",
      "CGA\n",
      "TCG\n",
      "AGC\n"
     ]
    }
   ],
   "source": [
    "import re\n",
    "\n",
    "for codon in re.findall(r'(.{3})', str(seqstr)):\n",
    "    print(codon)"
   ]
  },
  {
   "cell_type": "markdown",
   "id": "7fefe160",
   "metadata": {},
   "source": [
    "### Búsqueda de patrones\n",
    "\n",
    "Como ejemplo será el patrón `ACG`"
   ]
  },
  {
   "cell_type": "code",
   "execution_count": 16,
   "id": "4574d2ec",
   "metadata": {},
   "outputs": [
    {
     "name": "stdout",
     "output_type": "stream",
     "text": [
      "['ACG', 7, 31]\n",
      "['CGT', 11, 28]\n"
     ]
    }
   ],
   "source": [
    "from Bio import SeqUtils\n",
    "pattern = Seq('ACG')\n",
    "\n",
    "sequence = Seq(tmp:='ATGCGCGACGGCGTGATCAGCTTATAGCCGTACGACTGCTGC')\n",
    "results = SeqUtils.nt_search(tmp, pattern)\n",
    "print(results)\n",
    "\n",
    "reverse_results = SeqUtils.nt_search(tmp, pattern.reverse_complement())\n",
    "print(reverse_results)"
   ]
  },
  {
   "cell_type": "markdown",
   "id": "450765f4",
   "metadata": {},
   "source": [
    "# Ejercicio 1\n",
    "Obtener cadena protéica de cualquiera de sus ORFs\n",
    "Un ORF inicia con un codón inicial y termina, ya sea con un codón final o al final de la cádena.\n",
    "\n",
    "\n",
    "\n",
    "Input a utilizar:\n",
    "```\n",
    "AGCCATGTAGCTAACTCAGGTTACATGGGGATGACCCCGCGACTTGGATTAGAGTCTCTTTTGGAATAAGCCTGAATGATCCGAGTAGCATCTCAG\n",
    "```"
   ]
  },
  {
   "cell_type": "code",
   "execution_count": null,
   "id": "1bc9d1b9",
   "metadata": {},
   "outputs": [],
   "source": []
  },
  {
   "cell_type": "markdown",
   "id": "c5db237f",
   "metadata": {},
   "source": [
    "# Objetos `SeqRecord`\n",
    "`SeqIO.Parse` genera objetos `Bio.SeqRecord.SeqRecord`\n",
    "\n",
    "Atributos principales:\n",
    "- `ID`: identificador (cadena) objeto.id\n",
    "- `Seq`: secuencia (objeto Seq o similar) objeto.seq\n",
    "\n",
    "Atributos adicionales:\n",
    "\n",
    "- `name`: Nombre de la secuencia, e.g. nombre del gen (string)\n",
    "- `description`: Texto adicional (cadena)\n",
    "- `dbxrefs`: Lista de referencias cruzadas de bases de datos (lista de cadenas)\n",
    "- `features`: Cualquier (sub)features definidos (lista de objetos SeqFeature)\n",
    "- `annotations`: Más información sobre la secuencia (dictionary). cadenas, o lista de cadenas."
   ]
  },
  {
   "cell_type": "markdown",
   "id": "4fe0d87e",
   "metadata": {},
   "source": [
    "# RNA-seq\n",
    "\n",
    "Para más información véase el siguiente artículo de [nature](https://www.nature.com/articles/s41576-019-0150-2)."
   ]
  },
  {
   "attachments": {
    "image.png": {
     "image/png": "[encoded data removed]"
    }
   },
   "cell_type": "markdown",
   "id": "9b97a84f",
   "metadata": {},
   "source": [
    "## FastQ\n",
    "\n",
    "Un archivo fastq describe cada secuencia con 4 lineas, que son la siguientes:\n",
    "\n",
    "- Linea 1: Identificador de secuencia con información sobre la secuenciación. Los contenidos de esta línea varian, basados en el software de conversión BCL a FASTQ usado, para el caso concreto de ilumina, inicia con el nombre del equipo, numero de corrida, tile,posición x y y de del tile, numero de lectura y adaptador\n",
    "\n",
    "- Linea 2: propiamente La secuencia ( A, C, T, G y N)\n",
    "\n",
    "- Linea 3: en las primeras versiones era una copia de la linea 1 pero iniciando con el signo de más (+). En las ultimas versiones solo tiene el signo (+)\n",
    "\n",
    "- Puntuaciones de calidad. Estas son codificadas con Phred +33, usando caracteres ASCII para representar puntuaciones de calidad numéricas\n",
    "\n",
    "La primer secuencia dentro de la línea uno es el `ID` del equipo de secuenciación y tiene como prefijo un `@`.\n",
    "\n",
    "\n",
    "![image.png](attachment:image.png)\n",
    "\n",
    "### ¿Qué significa el identificador?\n",
    "\n",
    "- @NS500502: identificador del equipo (valor unico en el mundo)\n",
    "- 209: numero de corrida\n",
    "- HHT72BGXV: Identificador del Flowcell\n",
    "- 1: (line) en los ultimos modelos es un numero entre 1 y 4, antes habia 8 lines en un flowcell\n",
    "- 11101: Posición x en el tile\n",
    "- 16979: Posición y en el tile\n",
    "- 1036: Numero de tile\n",
    "- 2 : numero de archivo (1 o 2)\n",
    "- TTCATGGT+NGACAATG: Adaptadores\n",
    "\n",
    "Tile: área en la que se pueden tener las secuencias y donde se hará la captura de la secuenciación."
   ]
  },
  {
   "cell_type": "markdown",
   "id": "f03cb61a",
   "metadata": {},
   "source": [
    "# Descarga de datos de RNA-seq\n",
    "\n",
    "## Pregunta\n",
    "> ¿Cómo podemos acceder, explorar y descargar datos de RNA-Seq asociados a un BioProject específico (PRJNAXXX), para su posterior análisis transcriptómico, incluyendo el genoma de referencia necesario para el alineamiento de las lecturas?\n",
    "\n",
    "## Objetivos\n",
    "**General:**\n",
    "\n",
    "> Entender el proceso de exploración y descarga de datos de RNA-Seq y del genoma de referencia desde NCBI, siguiendo la relación BioProject → GEO → GSM → SRR → Genoma, utilizando Biopython y SRA Toolkit.\n",
    "\n",
    "## Específicos:\n",
    "\n",
    "> 1. Comprender la estructura jerárquica de NCBI: BioProject, BioSample, GEO Series (GSE), GEO Samples (GSM) y SRA Runs (SRR).\n",
    "> 2. Obtener información de un BioProject específico usando Biopython (esearch, esummary, elink).\n",
    "> 3. Identificar las muestras (GSM) y sus archivos de secuenciación (SRR) asociados al proyecto.\n",
    "> 4. Descargar los archivos SRR y convertirlos a formato FASTQ utilizando SRA Toolkit.\n",
    "> 5. Combinar archivos de lecturas forward y reverse cuando corresponda, generando archivos finales representativos de cada muestra.\n",
    "> 6. Consultar y descargar el genoma de referencia del organismo correspondiente, incluyendo secuencias y archivos de anotación (GFF), para el posterior mapeo y análisis de expresión diferencial.\n",
    "\n",
    "## 1. Problemática: Pasilla en Drosophila melanogaster\n",
    "Como vimos en clases anteriores, el proyecto que abordaremos está relacionado con la expresión del gen Pasilla. El experimento evaluó cómo la inhibición de este gen, ortólogo en Drosophila melanogaster de los genes NOVA1 y NOVA2 en mamíferos, afecta el transcriptoma. Para ello, se analizaron datos de RNA-Seq depositados en [NCBI-GEO](https://www.ncbi.nlm.nih.gov/geo/)(accesos GSM461176 a GSM461182) y asociados al BioProject [PRJNA168994](https://www.ncbi.nlm.nih.gov/bioproject/PRJNA168994), según el estudio publicado por [Brooks et al.](https://genome.cshlp.org/content/21/2/193) en Genome Research. En esta clase, nos enfocaremos en la descarga y consulta de los datos asociados al proyecto [PRJNA168994](https://www.ncbi.nlm.nih.gov/bioproject/PRJNA168994), prestando especial atención a las muestras GSM461176 a GSM461182, y revisaremos de manera general el uso de [Biopython](https://biopython.org/) y [SRA Toolkit](https://github.com/ncbi/sra-tools) para la obtención de los datos.\n",
    "\n",
    "## 2. Conceptos clave: BioProject, BioSample, SRA y GEO\n",
    "De manera general, un BioProject (PRJNAxxxxxx) describe el proyecto de investigación en su conjunto (por ejemplo, un estudio de RNA-Seq) y se vincula a una o varias BioSamples (SAMNxxxxxx), que documentan las características biológicas de cada muestra. A partir de estas BioSamples se generan los datos crudos de secuenciación, almacenados en el [Sequence Read Archive (SRA, SRRxxxxxx)](https://www.ncbi.nlm.nih.gov/sra).\n",
    "\n",
    "En algunos casos, el proyecto también deposita información en Gene Expression Omnibus (GEO):\n",
    "\n",
    "- Cada GSE corresponde a un experimento completo.\n",
    "- Cada GSM corresponde a una muestra individual, asociada a sus archivos de secuenciación.\n",
    "\n",
    "En resumen, la ruta BioProject → BioSample → SRA está siempre presente, mientras que la rama hacia GEO es opcional y depende del tipo de estudio.\n",
    "```bash\n",
    "BioProject (PRJNAxxxxxx) \n",
    "│ → describe el proyecto general (ej. un estudio de RNA-Seq) \n",
    "│ \n",
    "├── BioSample (SAMNxxxxxx) \n",
    "│ → describe las características biológicas de cada muestra \n",
    "│ \n",
    "├── SRA (SRRxxxxxx) \n",
    "│ → archivos crudos de secuenciación (FASTQ/BAM) \n",
    "│ \n",
    "└── GEO (opcional) \n",
    "    ├── GSE (Serie de GEO / Experimento) \n",
    "    │ → describe un experimento completo con diseño y condiciones \n",
    "    │ \n",
    "    └── GSM (Muestra de GEO) → muestra individual (ej. \"Untreated 2\") → incluye metadatos y vínculos a SRR\n",
    "```\n",
    "\n",
    "## 3. Exploración de datos en NCBI con Biopython\n",
    "Antes de descargar datos, podemos obtener información general sobre un BioProject (por ejemplo, PRJNA168994) utilizando la biblioteca Biopython y sus funciones de Bio.Entrez.\n",
    "\n",
    "- Resumen de funciones de Bio.Entrez\n",
    "- `esearch`: Buscar IDs en una base de datos.\n",
    "- `efetch`: Descargar información completa (texto, XML, secuencias, metadatos).\n",
    "- `esummary`: Obtener un resumen de un ID (título, organismo, etc.).\n",
    "- `elink`: Encontrar vínculos entre bases de datos (ej. GSE → SRA).\n",
    "- `egquery`: Buscar un término en todas las bases del NCBI y ver cuántos resultados hay.\n",
    "- `espell`: Corregir errores ortográficos en la búsqueda.\n",
    "- `einfo`: Ver información de una base de datos (campos, descripción, qué contiene).\n",
    "- `read`: convierte la respuesta de NCBI, en un objeto de python(listas, diccionarios, strings, etc.).\n",
    "\n",
    "## 3.1 Preparación: carga de bibliotecas\n",
    "\n",
    "Primero, importaremos la biblioteca Entrez de Biopython, que permite conectarse con las bases de datos de NCBI y utilizar funciones como esearch, efetch, esummary y elink para explorar y descargar información sobre proyectos, muestras y datos de secuenciación.\n",
    "\n",
    "> Nota: Para acceder a las bases de datos de NCBI es necesario proporcionar una cuenta de correo electrónico al utilizar Entrez, para que el servidor pueda identificar al usuario."
   ]
  },
  {
   "cell_type": "code",
   "execution_count": 17,
   "id": "8a76c511",
   "metadata": {},
   "outputs": [],
   "source": [
    "from Bio import Entrez\n",
    "import pandas as pd\n",
    "from io import StringIO\n",
    "import subprocess\n",
    "import os\n",
    "\n",
    "# Proporcionar correo electrónico\n",
    "Entrez.email = \"pablosm@lcg.unam.mx\""
   ]
  },
  {
   "cell_type": "markdown",
   "id": "999d9178",
   "metadata": {},
   "source": [
    "## 3.2 Obtener el UID de un BioProject\n",
    "En NCBI no es posible acceder a un proyecto únicamente por su nombre, ya que el sistema utiliza un **identificador interno único** llamado **UID (Unique ID)** para cada registro.\n",
    "\n",
    "Por ello, el primer paso consiste en obtener este UID utilizando la función esearch de Biopython, especificando la base de datos bioproject. Con el UID obtenido, podremos consultar toda la información asociada al proyecto."
   ]
  },
  {
   "cell_type": "code",
   "execution_count": 27,
   "id": "90a3ed2a",
   "metadata": {},
   "outputs": [
    {
     "name": "stdout",
     "output_type": "stream",
     "text": [
      "{'Count': '1', 'RetMax': '1', 'RetStart': '0', 'IdList': ['877658'], 'TranslationSet': [], 'TranslationStack': [{'Term': 'PRJNA877658[All Fields]', 'Field': 'All Fields', 'Count': '1', 'Explode': 'N'}, 'GROUP'], 'QueryTranslation': 'PRJNA877658[All Fields]'}\n"
     ]
    }
   ],
   "source": [
    "project_acc = 'PRJNA877658'\n",
    "handle = Entrez.esearch(db='bioproject', term=project_acc)\n",
    "search_results = Entrez.read(handle)\n",
    "print(search_results)\n",
    "handle.close()"
   ]
  },
  {
   "cell_type": "markdown",
   "id": "99bf916a",
   "metadata": {},
   "source": [
    "La consulta devuelve diversos parámetros relacionados con los resultados de la búsqueda. A continuación se describen los más importantes:\n",
    "\n",
    "==Hacer tabla==\n",
    "\n",
    "\n",
    "| - | - |\n",
    "| Campo |\tSignificado |\n",
    "|Count |\tNúmero total de resultados encontrados para la búsqueda. |\n",
    "|RetMax\t| Máximo de resultados devueltos en la consulta actual (por defecto 20 si no se especifica). |\n",
    "RetStart\tÍndice del primer resultado devuelto (sirve para paginar los resultados).\n",
    "IdList\tLista de identificadores únicos (UIDs) de los resultados encontrados. Estos UIDs se usan en efetch, esummary, etc.\n",
    "TranslationSet\tConjunto de traducciones de términos de búsqueda que hace NCBI (ej. sinónimos o equivalencias). Puede estar vacío.\n",
    "TranslationStack\tMuestra paso a paso cómo NCBI interpretó tu búsqueda (ej. en qué campos buscó y cuántos resultados encontró).\n",
    "QueryTranslation\tVersión final de la consulta después de ser interpretada por NCBI (puede ser igual a tu búsqueda original o una forma ajustada).\n",
    "Ahora, extraemos únicamente el UID del bioproject a partir del resultado de la búsqueda:"
   ]
  },
  {
   "cell_type": "code",
   "execution_count": 35,
   "id": "0a518046",
   "metadata": {},
   "outputs": [
    {
     "name": "stdout",
     "output_type": "stream",
     "text": [
      "UID del BioProject: 877658\n"
     ]
    }
   ],
   "source": [
    "project_uid = search_results['IdList'][0]\n",
    "print(\"UID del BioProject:\", project_uid)"
   ]
  },
  {
   "cell_type": "markdown",
   "id": "6a293f21",
   "metadata": {},
   "source": [
    "## 3.3 Resumen del BioProject\n",
    "Con el UID obtenido anteriormente, podemos consultar un resumen del BioProject usando la función esummary de Biopython sobre la base de datos bioproject:"
   ]
  },
  {
   "cell_type": "code",
   "execution_count": 25,
   "id": "e4f0a623",
   "metadata": {},
   "outputs": [
    {
     "name": "stdout",
     "output_type": "stream",
     "text": [
      "{'DocumentSummarySet': DictElement({'DocumentSummary': [DictElement({'TaxId': '0', 'Project_Id': '877658', 'Project_Acc': 'PRJNA877658', 'Project_Type': 'Primary submission', 'Project_Data_Type': 'Transcriptome or Gene expression', 'Sort_By_ProjectType': '300903', 'Sort_By_DataType': '280430', 'Sort_By_Organism': '787676', 'Project_Subtype': '', 'Project_Target_Scope': 'Multispecies', 'Project_Target_Material': 'Genome', 'Project_Target_Capture': 'Whole', 'Project_MethodType': 'Sequencing', 'Project_Method': '', 'Project_Objectives_List': [{'Project_ObjectivesType': 'Raw Sequence Reads', 'Project_Objectives': ''}], 'Registration_Date': '2022/09/07 00:00', 'Project_Name': '', 'Project_Title': 'Haemonchus contortus IVM Susceptible/Resistant Mexican Transcriptome, INIFAP-Mexico', 'Project_Description': 'The trasnscriptome of two H. contortus mexican isolates (IVM Susceptible and Resistant) was assembled to analyze its potential use in the establishment of strategies of control of haemonchosis in small ruminants based on identifying and usage of genes associated with anthelmintic resistance.', 'Keyword': '', 'Relevance_Agricultural': 'yes', 'Relevance_Medical': '', 'Relevance_Industrial': '', 'Relevance_Environmental': '', 'Relevance_Evolution': '', 'Relevance_Model': '', 'Relevance_Other': '', 'Organism_Name': '', 'Organism_Strain': '', 'Organism_Label': '', 'Sequencing_Status': 'SRA/Trace', 'Submitter_Organization': 'National Reserch Institute for Forestry, Agriculture and Livestock', 'Submitter_Organization_List': ['National Reserch Institute for Forestry, Agriculture and Livestock'], 'Supergroup': ''}, attributes={'uid': '877658'})], 'DbBuild': 'Build250923-0715.1'}, attributes={'status': 'OK'})}\n"
     ]
    }
   ],
   "source": [
    "handle = Entrez.esummary(db = 'bioproject', id=project_uid)\n",
    "project_record = Entrez.read(handle)\n",
    "print(project_record)\n",
    "handle.close()"
   ]
  },
  {
   "cell_type": "markdown",
   "id": "c53453a6",
   "metadata": {},
   "source": [
    "### Acceso a los campos de la consulta"
   ]
  },
  {
   "cell_type": "code",
   "execution_count": 33,
   "id": "ae0db98a",
   "metadata": {},
   "outputs": [
    {
     "name": "stdout",
     "output_type": "stream",
     "text": [
      "dict_keys(['TaxId', 'Project_Id', 'Project_Acc', 'Project_Type', 'Project_Data_Type', 'Sort_By_ProjectType', 'Sort_By_DataType', 'Sort_By_Organism', 'Project_Subtype', 'Project_Target_Scope', 'Project_Target_Material', 'Project_Target_Capture', 'Project_MethodType', 'Project_Method', 'Project_Objectives_List', 'Registration_Date', 'Project_Name', 'Project_Title', 'Project_Description', 'Keyword', 'Relevance_Agricultural', 'Relevance_Medical', 'Relevance_Industrial', 'Relevance_Environmental', 'Relevance_Evolution', 'Relevance_Model', 'Relevance_Other', 'Organism_Name', 'Organism_Strain', 'Organism_Label', 'Sequencing_Status', 'Submitter_Organization', 'Submitter_Organization_List', 'Supergroup'])\n",
      "\n",
      "===== Accediendo a los campos \"relevantes\" =====\n",
      "Accession: PRJNA877658\n",
      "Project Data Type: Transcriptome or Gene expression\n",
      "Method type: Sequencing\n"
     ]
    }
   ],
   "source": [
    "# Mostrar información del proyecto\n",
    "proj = project_record['DocumentSummarySet']['DocumentSummary'][0]\n",
    "\n",
    "# Mostrando campos del diccionario\n",
    "print(proj.keys())\n",
    "\n",
    "print('\\n===== Accediendo a los campos \"relevantes\" =====')\n",
    "print(f'Accession: {proj['Project_Acc']}')\n",
    "print(f'Project Data Type: {proj['Project_Data_Type']}')\n",
    "print(f'Method type: {proj['Project_MethodType']}')"
   ]
  },
  {
   "cell_type": "markdown",
   "id": "94ee5d3a",
   "metadata": {},
   "source": [
    "## 3.4 Relacionando BioProject con GEO (GSE/GSM)\n",
    "Un BioProject puede estar vinculado a varias bases de datos, como SRA (SRR/SRX), GEO (GSE/GSM) o BioSample (SRS). Con la función elink podemos consultar estas relaciones:"
   ]
  },
  {
   "cell_type": "code",
   "execution_count": 39,
   "id": "f8b10014",
   "metadata": {},
   "outputs": [
    {
     "name": "stdout",
     "output_type": "stream",
     "text": [
      "[{'LinkSetDbHistory': [], 'ERROR': [], 'LinkSetDb': [{'Link': [{'Id': '24384303'}, {'Id': '24384302'}, {'Id': '24384301'}, {'Id': '24384300'}, {'Id': '24384299'}, {'Id': '24384298'}], 'DbTo': 'sra', 'LinkName': 'bioproject_sra'}, {'Link': [{'Id': '24384303'}, {'Id': '24384302'}, {'Id': '24384301'}, {'Id': '24384300'}, {'Id': '24384299'}, {'Id': '24384298'}], 'DbTo': 'sra', 'LinkName': 'bioproject_sra_all'}], 'DbFrom': 'bioproject', 'IdList': ['877658']}]\n",
      "['24384303', '24384302', '24384301', '24384300', '24384299', '24384298']\n",
      "6\n"
     ]
    },
    {
     "data": {
      "text/plain": [
       "223"
      ]
     },
     "execution_count": 39,
     "metadata": {},
     "output_type": "execute_result"
    }
   ],
   "source": [
    "handle = Entrez.elink(dbfrom='bioproject', db='sra', id=project_uid)\n",
    "linksBioProj = Entrez.read(handle)\n",
    "handle.close()\n",
    "\n",
    "print(linksBioProj)\n",
    "\n",
    "sra_ids = [x.get('Id') for x in linksBioProj[0]['LinkSetDb'][0]['Link']]\n",
    "print(sra_ids)\n",
    "print(len(sra_ids))\n",
    "gc.collect()"
   ]
  }
 ],
 "metadata": {
  "kernelspec": {
   "display_name": "mi_entorno",
   "language": "python",
   "name": "python3"
  },
  "language_info": {
   "codemirror_mode": {
    "name": "ipython",
    "version": 3
   },
   "file_extension": ".py",
   "mimetype": "text/x-python",
   "name": "python",
   "nbconvert_exporter": "python",
   "pygments_lexer": "ipython3",
   "version": "3.12.2"
  }
 },
 "nbformat": 4,
 "nbformat_minor": 5
}
