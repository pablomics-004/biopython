{
 "cells": [
  {
   "cell_type": "markdown",
   "id": "077e981e",
   "metadata": {},
   "source": [
    "## Clases en Python\n",
    "\n",
    "Se trata de una forma de estructurar objetos como si se tratara de un mapa arquitectónico que determina las características o propiedades de los objetos que obtenemos de usarla."
   ]
  },
  {
   "cell_type": "markdown",
   "id": "ca31588b",
   "metadata": {},
   "source": [
    "### Ejercicio 1"
   ]
  },
  {
   "cell_type": "code",
   "execution_count": 2,
   "id": "44991193",
   "metadata": {},
   "outputs": [],
   "source": [
    "from numpy.random import permutation"
   ]
  },
  {
   "cell_type": "code",
   "execution_count": 13,
   "id": "dd05339d",
   "metadata": {},
   "outputs": [
    {
     "name": "stdout",
     "output_type": "stream",
     "text": [
      "5 14.008 239.85000000000002\n"
     ]
    }
   ],
   "source": [
    "class mamifero():\n",
    "    # Atributos de clase\n",
    "    vertebrado = True\n",
    "    amamanta = True\n",
    "\n",
    "    # Atributos de instancia\n",
    "    def __init__(self, alimentacion: str, altura: float, peso: float, descendencia: int = 0):\n",
    "        self.alimentacion = alimentacion\n",
    "        self.altura = altura\n",
    "        self.peso = peso\n",
    "        self.descendencia = descendencia\n",
    "    \n",
    "    def reproducirse(self, max_progenie: int):\n",
    "        self.descendencia += permutation(max_progenie)[0]\n",
    "\n",
    "    def crecer(self, crecimiento):\n",
    "        self.altura += crecimiento\n",
    "        self.peso += crecimiento * 0.4\n",
    "        return self.peso\n",
    "\n",
    "perro = mamifero(alimentacion='carnívoro', altura=2.008, peso=235.05)\n",
    "perro.reproducirse(6)\n",
    "perro.crecer(12)\n",
    "print(perro.descendencia, perro.altura, perro.peso)"
   ]
  },
  {
   "cell_type": "markdown",
   "id": "9cf94178",
   "metadata": {},
   "source": [
    "# Herencia"
   ]
  },
  {
   "cell_type": "code",
   "execution_count": 14,
   "id": "63f52435",
   "metadata": {},
   "outputs": [],
   "source": [
    "class monotrema(mamifero):\n",
    "    espolon = True\n",
    "\n",
    "    def poner_huevos(self, max_huevos):\n",
    "        huevos = 0        \n",
    "        for n in range(max_huevos):\n",
    "            if permutation(2)[0]:\n",
    "                huevos += 1\n",
    "        if huevos > 0:\n",
    "            self.reproducirse(huevos)"
   ]
  },
  {
   "cell_type": "markdown",
   "id": "5990a495",
   "metadata": {},
   "source": [
    "## Ejericio 3. Práctica de Herencia\n",
    "\n",
    "De la clase `gen` habremos de generar una subclase `tRNA` y una subclase de la anterior denominada `RNA no codificante`."
   ]
  },
  {
   "cell_type": "code",
   "execution_count": null,
   "id": "1076805f",
   "metadata": {},
   "outputs": [],
   "source": [
    "class gene():\n",
    "    \n",
    "    def __init__(\n",
    "            self, \n",
    "            name: str, \n",
    "            length: int = 0, \n",
    "            seq: str = '', \n",
    "            gc_con: float = 0.0, \n",
    "            organism: str = '', \n",
    "            lecture_frame: int = 1, \n",
    "    ):\n",
    "        self.name = name\n",
    "        self.length = length\n",
    "        self.seq = seq.upper()\n",
    "        self.gc_percentage = gc_con\n",
    "        self.organism = organism\n",
    "        self.frame = lecture_frame\n",
    "        self.nt = ''\n",
    "\n",
    "    def gc_content(self) -> None:\n",
    "        self.gc_percentage += (\n",
    "            (total_gc := self.seq.count('G') + self.seq.count('C')) / (total_gc + self.seq.count('A') + self.seq.count('T'))\n",
    "        ) * 100\n",
    "    \n",
    "    def len_calc(self) -> int:\n",
    "        self.length += len(self.seq)\n",
    "\n",
    "    def first_frame(self):\n",
    "        frame_codons = []\n",
    "        for i in range(0,len(self.seq),3):\n",
    "            codon = self.seq[i:i+3]\n",
    "            if len(codon) == 3:\n",
    "                frame_codons.append(codon)\n",
    "        return frame_codons\n",
    "    \n",
    "    def second_frame(self):\n",
    "        frame_codons = []\n",
    "        for i in range(1,len(self.seq),3):\n",
    "            codon = self.seq[i:i+3]\n",
    "            if len(codon) == 3:\n",
    "                frame_codons.append(codon)\n",
    "        return frame_codons\n",
    "    \n",
    "    def third_frame(self):\n",
    "        frame_codons = []\n",
    "        for i in range(2,len(self.seq),3):\n",
    "            codon = self.seq[i:i+3]\n",
    "            if len(codon) == 3:\n",
    "                frame_codons.append(codon)\n",
    "        return frame_codons\n",
    "    \n",
    "    def frame(self):\n",
    "        match self.frame:\n",
    "            case 1:\n",
    "                return self.first_frame()\n",
    "            case 2:\n",
    "                return self.second_frame()\n",
    "            case 3:\n",
    "                return self.third_frame()\n",
    "            case _:\n",
    "                raise ValueError('\\n[ERROR] No such frame have been found.\\n')\n",
    "    \n",
    "    def base_type(self) -> None:\n",
    "        uracil = self.seq.count('U')\n",
    "        if uracil > 0:\n",
    "            self.nt = 'RNA'\n",
    "        else:\n",
    "            self.nt = 'DNA'\n",
    "    \n",
    "    def possible_stop_cods(self):\n",
    "        self.base_type()\n",
    "        match self.nt:\n",
    "            case 'RNA':\n",
    "                stop = {'UAG', 'UAA', 'UGA'}\n",
    "            case 'DNA':\n",
    "                stop = {'TAG', 'TAA', 'TGA'}\n",
    "        pass\n",
    "\n",
    "lexA = gene(\n",
    "    name='lexA',\n",
    "    seq='ATGAAAGCGTTAACGGCCAGGCAACAAGAGGTGTTTGATCTCATCCGTGATCACATCAGCCAGACAGGTATGCCGCCGACGCGTGCGGAAATCGCGCAGCGTTTGGGGTTCC',\n",
    "    organism='Escherichia coli K-12',\n",
    "    lecture_frame=2\n",
    ")\n",
    "lexA.gc_content()\n",
    "print(f'GC Content: {lexA.gc_percentage}%, {lexA.frame} frame: {lexA.second_frame()}')"
   ]
  },
  {
   "cell_type": "markdown",
   "id": "3f814053",
   "metadata": {},
   "source": [
    "# Polimorfismo\n",
    "\n",
    "Se trata de la supersición de métodos entre clases _emparentadas_, de tal forma que lo que hace un método en la clase padre sea más preciso o particular en la clase hija.\n",
    "\n",
    "#### Ejemplo\n",
    "\n",
    "La clase suma en Python, con el signo `+`, por un lado puede sumar números ya sean `int` o `float` o, bajo otro uso, juntar dos caracteres o cadenas en una única cadena."
   ]
  },
  {
   "cell_type": "code",
   "execution_count": 15,
   "id": "9cc88f60",
   "metadata": {},
   "outputs": [
    {
     "data": {
      "text/plain": [
       "{'alimentacion': 'carnívoro',\n",
       " 'altura': 200,\n",
       " 'peso': 41000,\n",
       " 'descendencia': 0,\n",
       " 'acuatico': True}"
      ]
     },
     "execution_count": 15,
     "metadata": {},
     "output_type": "execute_result"
    }
   ],
   "source": [
    "class placentario(mamifero):\n",
    "\n",
    "    def __init__(self, alimentacion, altura, peso, acuatico: bool,descendencia: int = 0):\n",
    "        super().__init__(alimentacion, altura, peso, descendencia)\n",
    "        self.acuatico = acuatico\n",
    "\n",
    "    def crecer(self, crecimiento): # Ejemplo de polimorfismo --> overriding\n",
    "        self.altura += crecimiento\n",
    "        self.peso += crecimiento * 2\n",
    "        return self.peso\n",
    "\n",
    "cachalote = placentario('carnívoro', 200, 41*10**3, True)\n",
    "cachalote.__dict__"
   ]
  },
  {
   "cell_type": "code",
   "execution_count": 17,
   "id": "a7ad0dd2",
   "metadata": {},
   "outputs": [
    {
     "name": "stdout",
     "output_type": "stream",
     "text": [
      "41040 3.6399999999999997 "
     ]
    }
   ],
   "source": [
    "class marsupial(mamifero):\n",
    "\n",
    "    def __init__(self, alimentacion, altura, peso, descendencia = 0):\n",
    "        super().__init__(alimentacion, altura, peso, descendencia)\n",
    "\n",
    "    def crecer(self, crecimiento):\n",
    "        return super().crecer(crecimiento) * 0.7\n",
    "    \n",
    "tlacuache = marsupial('omnívoro', 30, 1.2)\n",
    "\n",
    "for mamiferito in (cachalote, tlacuache):\n",
    "    print(mamiferito.crecer(10), end=' ')"
   ]
  }
 ],
 "metadata": {
  "kernelspec": {
   "display_name": "mi_entorno",
   "language": "python",
   "name": "python3"
  },
  "language_info": {
   "codemirror_mode": {
    "name": "ipython",
    "version": 3
   },
   "file_extension": ".py",
   "mimetype": "text/x-python",
   "name": "python",
   "nbconvert_exporter": "python",
   "pygments_lexer": "ipython3",
   "version": "3.12.2"
  }
 },
 "nbformat": 4,
 "nbformat_minor": 5
}
