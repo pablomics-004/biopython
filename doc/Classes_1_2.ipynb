{
 "cells": [
  {
   "cell_type": "markdown",
   "id": "077e981e",
   "metadata": {},
   "source": [
    "## Clases en Python\n",
    "\n",
    "Se trata de una forma de estructurar objetos como si se tratara de un mapa arquitectónico que determina las características o propiedades de los objetos que obtenemos de usarla."
   ]
  },
  {
   "cell_type": "markdown",
   "id": "ca31588b",
   "metadata": {},
   "source": [
    "### Ejercicio 1"
   ]
  },
  {
   "cell_type": "code",
   "execution_count": 4,
   "id": "44991193",
   "metadata": {},
   "outputs": [],
   "source": [
    "from numpy.random import permutation"
   ]
  },
  {
   "cell_type": "code",
   "execution_count": 3,
   "id": "dd05339d",
   "metadata": {},
   "outputs": [
    {
     "name": "stdout",
     "output_type": "stream",
     "text": [
      "3 14.008 239.85000000000002\n"
     ]
    }
   ],
   "source": [
    "class mamifero():\n",
    "    # Atributos de clase\n",
    "    vertebrado = True\n",
    "    amamanta = True\n",
    "\n",
    "    # Atributos de instancia\n",
    "    def __init__(self, alimentacion: str, altura: float, peso: float, descendencia: int = 0):\n",
    "        self.alimentacion = alimentacion\n",
    "        self.altura = altura\n",
    "        self.peso = peso\n",
    "        self.descendencia = descendencia\n",
    "    \n",
    "    def reproducirse(self, max_progenie: int):\n",
    "        self.descendencia += permutation(max_progenie)[0]\n",
    "\n",
    "    def crecer(self, crecimiento):\n",
    "        self.altura += crecimiento\n",
    "        self.peso += crecimiento * 0.4\n",
    "\n",
    "perro = mamifero(alimentacion='carnívoro', altura=2.008, peso=235.05)\n",
    "perro.reproducirse(6)\n",
    "perro.crecer(12)\n",
    "print(perro.descendencia, perro.altura, perro.peso)"
   ]
  },
  {
   "cell_type": "markdown",
   "id": "9cf94178",
   "metadata": {},
   "source": [
    "## Ejercicio de herencia"
   ]
  },
  {
   "cell_type": "code",
   "execution_count": null,
   "id": "63f52435",
   "metadata": {},
   "outputs": [],
   "source": [
    "class monotrema(mamifero):\n",
    "    espolon = True\n",
    "\n",
    "    def poner_huevos(self, max_huevos):\n",
    "        huevos = 0        \n",
    "        for n in range(max_huevos):\n",
    "            if permutation(2)[0]:\n",
    "                huevos += 1\n",
    "        if huevos > 0:\n",
    "            self.reproducirse(huevos)"
   ]
  }
 ],
 "metadata": {
  "kernelspec": {
   "display_name": "mi_entorno",
   "language": "python",
   "name": "python3"
  },
  "language_info": {
   "codemirror_mode": {
    "name": "ipython",
    "version": 3
   },
   "file_extension": ".py",
   "mimetype": "text/x-python",
   "name": "python",
   "nbconvert_exporter": "python",
   "pygments_lexer": "ipython3",
   "version": "3.12.2"
  }
 },
 "nbformat": 4,
 "nbformat_minor": 5
}
