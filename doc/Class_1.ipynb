{
 "cells": [
  {
   "cell_type": "markdown",
   "id": "077e981e",
   "metadata": {},
   "source": [
    "## Clases en Python\n",
    "\n",
    "Se trata de una forma de estructurar objetos como si se tratara de un mapa arquitectónico que determina las características o propiedades de los objetos que obtenemos de usarla."
   ]
  },
  {
   "cell_type": "markdown",
   "id": "ca31588b",
   "metadata": {},
   "source": [
    "### Ejercicio 1"
   ]
  },
  {
   "cell_type": "code",
   "execution_count": 3,
   "id": "44991193",
   "metadata": {},
   "outputs": [],
   "source": [
    "from numpy.random import permutation"
   ]
  },
  {
   "cell_type": "code",
   "execution_count": 8,
   "id": "dd05339d",
   "metadata": {},
   "outputs": [
    {
     "name": "stdout",
     "output_type": "stream",
     "text": [
      "2 14.008 239.85000000000002\n"
     ]
    }
   ],
   "source": [
    "class mamifero():\n",
    "    # Atributos de clase\n",
    "    vertebrado = True\n",
    "    amamanta = True\n",
    "\n",
    "    # Atributos de instancia\n",
    "    def __init__(self, alimentacion: str, altura: float, peso: float, descendencia: int = 0):\n",
    "        self.alimentacion = alimentacion\n",
    "        self.altura = altura\n",
    "        self.peso = peso\n",
    "        self.descendencia = descendencia\n",
    "    \n",
    "    def reproducirse(self, max_progenie: int):\n",
    "        self.descendencia += permutation(max_progenie)[0]\n",
    "\n",
    "    def crecer(self, crecimiento):\n",
    "        self.altura += crecimiento\n",
    "        self.peso += crecimiento * 0.4\n",
    "\n",
    "perro = mamifero(alimentacion='carnívoro', altura=2.008, peso=235.05)\n",
    "perro.reproducirse(6)\n",
    "perro.crecer(12)\n",
    "print(perro.descendencia, perro.altura, perro.peso)"
   ]
  },
  {
   "cell_type": "code",
   "execution_count": 5,
   "id": "7901f012",
   "metadata": {},
   "outputs": [
    {
     "name": "stdout",
     "output_type": "stream",
     "text": [
      "GC Content: 56.25%, 2 frame: ['TGA', 'AAG', 'CGT', 'TAA', 'CGG', 'CCA', 'GGC', 'AAC', 'AAG', 'AGG', 'TGT', 'TTG', 'ATC', 'TCA', 'TCC', 'GTG', 'ATC', 'ACA', 'TCA', 'GCC', 'AGA', 'CAG', 'GTA', 'TGC', 'CGC', 'CGA', 'CGC', 'GTG', 'CGG', 'AAA', 'TCG', 'CGC', 'AGC', 'GTT', 'TGG', 'GGT', 'TCC']\n"
     ]
    }
   ],
   "source": [
    "class gene():\n",
    "    \n",
    "    def __init__(\n",
    "            self, \n",
    "            name: str, \n",
    "            length: int = 0, \n",
    "            seq: str = '', \n",
    "            gc_con: float = 0.0, \n",
    "            organism: str = '', \n",
    "            lecture_frame: int = 1, \n",
    "    ):\n",
    "        self.name = name\n",
    "        self.length = length\n",
    "        self.seq = seq.upper()\n",
    "        self.gc_percentage = gc_con\n",
    "        self.organism = organism\n",
    "        self.frame = lecture_frame\n",
    "        self.nt = ''\n",
    "\n",
    "    def gc_content(self) -> None:\n",
    "        self.gc_percentage += (\n",
    "            (total_gc := self.seq.count('G') + self.seq.count('C')) / (total_gc + self.seq.count('A') + self.seq.count('T'))\n",
    "        ) * 100\n",
    "    \n",
    "    def len_calc(self) -> int:\n",
    "        self.length += len(self.seq)\n",
    "\n",
    "    def first_frame(self):\n",
    "        frame_codons = []\n",
    "        for i in range(0,len(self.seq),3):\n",
    "            codon = self.seq[i:i+3]\n",
    "            if len(codon) == 3:\n",
    "                frame_codons.append(codon)\n",
    "        return frame_codons\n",
    "    \n",
    "    def second_frame(self):\n",
    "        frame_codons = []\n",
    "        for i in range(1,len(self.seq),3):\n",
    "            codon = self.seq[i:i+3]\n",
    "            if len(codon) == 3:\n",
    "                frame_codons.append(codon)\n",
    "        return frame_codons\n",
    "    \n",
    "    def third_frame(self):\n",
    "        frame_codons = []\n",
    "        for i in range(2,len(self.seq),3):\n",
    "            codon = self.seq[i:i+3]\n",
    "            if len(codon) == 3:\n",
    "                frame_codons.append(codon)\n",
    "        return frame_codons\n",
    "    \n",
    "    def frame(self):\n",
    "        match self.frame:\n",
    "            case 1:\n",
    "                return self.first_frame()\n",
    "            case 2:\n",
    "                return self.second_frame()\n",
    "            case 3:\n",
    "                return self.third_frame()\n",
    "            case _:\n",
    "                raise ValueError('\\n[ERROR] No such frame have been found.\\n')\n",
    "    \n",
    "    def base_type(self) -> None:\n",
    "        uracil = self.seq.count('U')\n",
    "        if uracil > 0:\n",
    "            self.nt = 'RNA'\n",
    "        else:\n",
    "            self.nt = 'DNA'\n",
    "    \n",
    "    def possible_stop_cods(self):\n",
    "        self.base_type()\n",
    "        match self.nt:\n",
    "            case 'RNA':\n",
    "                stop = {'UAG', 'UAA', 'UGA'}\n",
    "            case 'DNA':\n",
    "                stop = {'TAG', 'TAA', 'TGA'}\n",
    "        pass\n",
    "\n",
    "lexA = gene(\n",
    "    name='lexA',\n",
    "    seq='ATGAAAGCGTTAACGGCCAGGCAACAAGAGGTGTTTGATCTCATCCGTGATCACATCAGCCAGACAGGTATGCCGCCGACGCGTGCGGAAATCGCGCAGCGTTTGGGGTTCC',\n",
    "    organism='Escherichia coli K-12',\n",
    "    lecture_frame=2\n",
    ")\n",
    "lexA.gc_content()\n",
    "print(f'GC Content: {lexA.gc_percentage}%, {lexA.frame} frame: {lexA.second_frame()}')"
   ]
  }
 ],
 "metadata": {
  "kernelspec": {
   "display_name": "mi_entorno",
   "language": "python",
   "name": "python3"
  },
  "language_info": {
   "codemirror_mode": {
    "name": "ipython",
    "version": 3
   },
   "file_extension": ".py",
   "mimetype": "text/x-python",
   "name": "python",
   "nbconvert_exporter": "python",
   "pygments_lexer": "ipython3",
   "version": "3.12.2"
  }
 },
 "nbformat": 4,
 "nbformat_minor": 5
}
